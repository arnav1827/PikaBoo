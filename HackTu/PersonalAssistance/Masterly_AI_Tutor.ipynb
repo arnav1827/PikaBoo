{
 "cells": [
  {
   "cell_type": "code",
   "execution_count": 1,
   "id": "28bd810c-f725-4449-a0fc-d3cd90197eba",
   "metadata": {},
   "outputs": [
    {
     "name": "stdout",
     "output_type": "stream",
     "text": [
      "* Running on local URL:  http://127.0.0.1:7875\n",
      "\n",
      "To create a public link, set `share=True` in `launch()`.\n"
     ]
    },
    {
     "data": {
      "text/html": [
       "<div><iframe src=\"http://127.0.0.1:7875/\" width=\"100%\" height=\"500\" allow=\"autoplay; camera; microphone; clipboard-read; clipboard-write;\" frameborder=\"0\" allowfullscreen></iframe></div>"
      ],
      "text/plain": [
       "<IPython.core.display.HTML object>"
      ]
     },
     "metadata": {},
     "output_type": "display_data"
    },
    {
     "data": {
      "text/plain": []
     },
     "execution_count": 1,
     "metadata": {},
     "output_type": "execute_result"
    }
   ],
   "source": [
    "import gradio as gr\n",
    "import ollama \n",
    "\n",
    "force_dark_mode = \"\"\"\n",
    "function refresh() {\n",
    "    const url = new URL(window.location);\n",
    "    if (url.searchParams.get('__theme') !== 'dark') {\n",
    "        url.searchParams.set('__theme', 'dark');\n",
    "        window.location.href = url.href;\n",
    "    }\n",
    "}\n",
    "\"\"\"\n",
    "\n",
    "# AI Tutor System Prompt\n",
    "system_prompt = \"\"\"\n",
    "You are **Masterly AI Tutor**, a 24/7 instant doubt-clearing assistant specialized in helping students prepare for master’s entrance exams.\n",
    "Your task is to provide **accurate, clear, and concise answers** to user queries, focusing on the master’s exam syllabus, concepts, problem-solving\n",
    "techniques, and past exam patterns.\n",
    "\n",
    "### **Instructions for Response Generation:**\n",
    "- **Accuracy & Clarity:** Deliver precise, well-structured explanations in **Markdown format**.\n",
    "- **Context Awareness:** Understand the query’s domain (math, reasoning, verbal, subject-specific) and ask clarifying questions if needed.\n",
    "- **Exam-Specific Knowledge:** Incorporate insights from previous exams, and suggest shortcuts or strategies for efficient problem-solving.\n",
    "- **Engagement & Support:** Maintain a friendly, motivating tone. Offer further study resources or practice exercises as applicable.\n",
    "- **Subject Coverage:** Address all areas of master’s exams (Quantitative Aptitude, Logical Reasoning, Verbal Ability, General Awareness, and Subject-Specific Topics).\n",
    "- **Follow-Up & Reinforcement:** Suggest additional practice or deeper breakdowns for complex topics. Provide insights on weak areas based on common queries.\n",
    "- **Adaptive Learning:** Tailor explanations to the user’s difficulty level. Simplify complex topics when necessary.\n",
    "- **Multi-Language Support:** Offer explanations in the user’s preferred language, leveraging Google Translate when needed.\n",
    "\"\"\"\n",
    "\n",
    "def respond_to_user(user_input , subject , image):\n",
    "    if subject:\n",
    "        user_input = f\"[{subject}]{user_input}\"\n",
    "    messages = [\n",
    "        {\"role\":\"system\",\"content\":system_prompt},\n",
    "        {\"role\":\"user\",\"content\":user_input}\n",
    "    ]\n",
    "    try:\n",
    "        response = ollama.chat(model = \"llama3.2\",messages = messages)\n",
    "        return response['message']['content'] if 'message' in response and 'content' in response['message'] else \"No response received from AI\"\n",
    "    except Exception as e:\n",
    "        return f\"Error:{str(e)}\"\n",
    "\n",
    "with gr.Blocks(css=\"body { background-color: #0D1117; color: white; }\") as tutor_ui:\n",
    "    gr.Markdown(\"## 🎓 Masterly AI Tutor - 24/7 Instant Doubt Solver\")\n",
    "    gr.Markdown(\"Ask doubts from **Quant, Verbal, Logical Reasoning, General Awareness** & Subject-Specific topics!\")\n",
    "\n",
    "    with gr.Row():\n",
    "        subject_dropdown = gr.Dropdown([\"Quantitative Aptitude\", \"Logical Reasoning\", \"Verbal Ability\", \"General Awareness\", \"Subject-Specific\"], label=\"📚 Select Subject\")\n",
    "        image_upload = gr.Image(label=\"📷 Upload an Image (Optional)\", type=\"pil\")\n",
    "\n",
    "    user_input = gr.Textbox(placeholder=\"Type your query here...\", label=\"✍️ Ask Your Question\", lines=5)\n",
    "    submit_btn = gr.Button(\"🚀 Ask AI\")\n",
    "    \n",
    "    output_display = gr.Markdown()\n",
    "    \n",
    "    submit_btn.click(respond_to_user, inputs=[user_input, subject_dropdown, image_upload], outputs=output_display)\n",
    "\n",
    "tutor_ui.launch()"
   ]
  },
  {
   "cell_type": "code",
   "execution_count": null,
   "id": "d3d26153-34f3-4aef-8d0b-cd530dd7bb17",
   "metadata": {},
   "outputs": [],
   "source": []
  }
 ],
 "metadata": {
  "kernelspec": {
   "display_name": "Python 3 (ipykernel)",
   "language": "python",
   "name": "python3"
  },
  "language_info": {
   "codemirror_mode": {
    "name": "ipython",
    "version": 3
   },
   "file_extension": ".py",
   "mimetype": "text/x-python",
   "name": "python",
   "nbconvert_exporter": "python",
   "pygments_lexer": "ipython3",
   "version": "3.12.4"
  }
 },
 "nbformat": 4,
 "nbformat_minor": 5
}
