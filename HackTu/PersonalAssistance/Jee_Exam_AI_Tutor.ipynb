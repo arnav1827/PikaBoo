{
 "cells": [
  {
   "cell_type": "code",
   "execution_count": 106,
   "id": "72219454-2735-4b55-b35a-7f56b923a3c1",
   "metadata": {},
   "outputs": [
    {
     "name": "stderr",
     "output_type": "stream",
     "text": [
      "C:\\Users\\ASUS\\anaconda3\\Lib\\site-packages\\gradio\\components\\chatbot.py:282: UserWarning: You have not specified a value for the `type` parameter. Defaulting to the 'tuples' format for chatbot messages, but this is deprecated and will be removed in a future version of Gradio. Please set type='messages' instead, which uses openai-style dictionaries with 'role' and 'content' keys.\n",
      "  warnings.warn(\n"
     ]
    },
    {
     "name": "stdout",
     "output_type": "stream",
     "text": [
      "* Running on local URL:  http://127.0.0.1:7904\n",
      "* Running on public URL: https://d63646def3c648adba.gradio.live\n",
      "\n",
      "This share link expires in 72 hours. For free permanent hosting and GPU upgrades, run `gradio deploy` from the terminal in the working directory to deploy to Hugging Face Spaces (https://huggingface.co/spaces)\n"
     ]
    },
    {
     "data": {
      "text/html": [
       "<div><iframe src=\"https://d63646def3c648adba.gradio.live\" width=\"100%\" height=\"500\" allow=\"autoplay; camera; microphone; clipboard-read; clipboard-write;\" frameborder=\"0\" allowfullscreen></iframe></div>"
      ],
      "text/plain": [
       "<IPython.core.display.HTML object>"
      ]
     },
     "metadata": {},
     "output_type": "display_data"
    },
    {
     "data": {
      "text/plain": []
     },
     "execution_count": 106,
     "metadata": {},
     "output_type": "execute_result"
    }
   ],
   "source": [
    "import gradio as gr\n",
    "import ollama\n",
    "\n",
    "subject_prompts = {\n",
    "    \"Physics\": \"You are a JEE Physics tutor. Provide detailed, step-by-step explanations.\",\n",
    "    \"Chemistry\": \"You are a JEE Chemistry tutor. Explain problems in a structured and engaging manner.\",\n",
    "    \"Mathematics\": \"You are a JEE Mathematics tutor. Break down concepts and calculations step-by-step.\"\n",
    "}\n",
    "\n",
    "def ai_jee_tutor(user_input, subject, image, chat_history):\n",
    "    if not subject:\n",
    "        return chat_history + [(\"Please select a subject before asking a question.\", \"\")]\n",
    "\n",
    "    system_prompt = subject_prompts.get(subject, \"Select a valid subject.\")\n",
    "    \n",
    "    messages = [{\"role\": \"system\", \"content\": system_prompt}]\n",
    "    \n",
    "    for user, ai in chat_history:\n",
    "        messages.append({\"role\": \"user\", \"content\": user})\n",
    "        messages.append({\"role\": \"assistant\", \"content\": ai})\n",
    "\n",
    "    if user_input:\n",
    "        messages.append({\"role\": \"user\", \"content\": user_input})\n",
    "\n",
    "    if image:\n",
    "        messages.append({\"role\": \"user\", \"content\": {\"type\": \"image\", \"image\": image}})\n",
    "\n",
    "    try:\n",
    "        response = ollama.chat(model=\"llama3.2\", messages=messages)\n",
    "        ai_reply = response.get(\"message\", {}).get(\"content\", \"No response received.\")\n",
    "        return chat_history + [(user_input, ai_reply)]\n",
    "    \n",
    "    except Exception as e:\n",
    "        return chat_history + [(user_input, f\" Error: {str(e)}\")]\n",
    "\n",
    "with gr.Blocks(css=\"\"\"\n",
    ":root {\n",
    "    --background-fill-primary: #121212 !important;\n",
    "    --text-primary: #E0E0E0 !important;\n",
    "}\n",
    "\n",
    "/* Headings */\n",
    ".gradio-container h1, .gradio-container h2 {\n",
    "    color: #FFFFFF !important;\n",
    "    font-weight: 900 !important;\n",
    "    text-transform: uppercase;\n",
    "    text-shadow: 2px 2px 8px rgba(255, 255, 255, 0.2);\n",
    "    letter-spacing: 1.2px;\n",
    "}\n",
    "\n",
    "/* Subheadings & Bold Text */\n",
    ".gradio-container .markdown strong {\n",
    "    color: #FFD700 !important;\n",
    "    font-weight: 800 !important;\n",
    "}\n",
    "\"\"\") as tutor_ui:\n",
    "    gr.Markdown(\"## 🚀 JEE AI Tutor - Interactive Learning 🤖\")\n",
    "    gr.Markdown(\"👨‍🏫 **Your AI tutor for JEE Physics, Chemistry, and Mathematics!** Get structured, step-by-step explanations for complex topics. Upload images or type your question!\")\n",
    "\n",
    "    with gr.Row():\n",
    "        subject_dropdown = gr.Dropdown([\"Physics\", \"Chemistry\", \"Mathematics\"], label=\"📚 Select Subject\", interactive=True)\n",
    "        image_input = gr.Image(label=\"🖼️ Upload a question image (optional)\", type=\"pil\")\n",
    "\n",
    "    chat_history = gr.State([])\n",
    "    \n",
    "    chatbot = gr.Chatbot(label=\"📖 Tutor's Response\")\n",
    "    user_input = gr.Textbox(label=\"💡 Ask a question...\")\n",
    "    \n",
    "    with gr.Row():\n",
    "        ask_btn = gr.Button(\"🚀 Ask AI\")\n",
    "        clear_btn = gr.Button(\"🗑️ Clear Chat\")\n",
    "\n",
    "    ask_btn.click(ai_jee_tutor, inputs=[user_input, subject_dropdown, image_input, chat_history], outputs=chatbot)\n",
    "    clear_btn.click(lambda: [], outputs=chatbot)\n",
    "\n",
    "\n",
    "tutor_ui.launch(share = True)\n"
   ]
  },
  {
   "cell_type": "code",
   "execution_count": null,
   "id": "fd1a886b-be1f-4571-9812-eb771eef0736",
   "metadata": {},
   "outputs": [],
   "source": []
  }
 ],
 "metadata": {
  "kernelspec": {
   "display_name": "Python 3 (ipykernel)",
   "language": "python",
   "name": "python3"
  },
  "language_info": {
   "codemirror_mode": {
    "name": "ipython",
    "version": 3
   },
   "file_extension": ".py",
   "mimetype": "text/x-python",
   "name": "python",
   "nbconvert_exporter": "python",
   "pygments_lexer": "ipython3",
   "version": "3.12.4"
  }
 },
 "nbformat": 4,
 "nbformat_minor": 5
}
