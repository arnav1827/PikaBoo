{
 "cells": [
  {
   "cell_type": "code",
   "execution_count": 5,
   "id": "edb97170-fa78-432d-b97c-e3b0f9c01086",
   "metadata": {},
   "outputs": [],
   "source": [
    "import ollama"
   ]
  },
  {
   "cell_type": "code",
   "execution_count": 6,
   "id": "e6a26125-33c4-4657-879e-69dae91bf3b7",
   "metadata": {},
   "outputs": [
    {
     "name": "stderr",
     "output_type": "stream",
     "text": [
      "\u001b[?25lpulling manifest â ‹ \u001b[?25h\u001b[?25l\u001b[2K\u001b[1Gpulling manifest â ™ \u001b[?25h\u001b[?25l\u001b[2K\u001b[1Gpulling manifest â ¹ \u001b[?25h\u001b[?25l\u001b[2K\u001b[1Gpulling manifest â ¸ \u001b[?25h\u001b[?25l\u001b[2K\u001b[1Gpulling manifest â ¼ \u001b[?25h\u001b[?25l\u001b[2K\u001b[1Gpulling manifest â ´ \u001b[?25h\u001b[?25l\u001b[2K\u001b[1Gpulling manifest â ¦ \u001b[?25h\u001b[?25l\u001b[2K\u001b[1Gpulling manifest â § \u001b[?25h\u001b[?25l\u001b[2K\u001b[1Gpulling manifest â ‡ \u001b[?25h\u001b[?25l\u001b[2K\u001b[1Gpulling manifest â � \u001b[?25h\u001b[?25l\u001b[2K\u001b[1Gpulling manifest â ‹ \u001b[?25h\u001b[?25l\u001b[2K\u001b[1Gpulling manifest â ™ \u001b[?25h\u001b[?25l\u001b[2K\u001b[1Gpulling manifest â ¹ \u001b[?25h\u001b[?25l\u001b[2K\u001b[1Gpulling manifest â ¸ \u001b[?25h\u001b[?25l\u001b[2K\u001b[1Gpulling manifest â ¼ \u001b[?25h\u001b[?25l\u001b[2K\u001b[1Gpulling manifest â ´ \u001b[?25h\u001b[?25l\u001b[2K\u001b[1Gpulling manifest â ¦ \u001b[?25h\u001b[?25l\u001b[2K\u001b[1Gpulling manifest â § \u001b[?25h\u001b[?25l\u001b[2K\u001b[1Gpulling manifest â ‡ \u001b[?25h\u001b[?25l\u001b[2K\u001b[1Gpulling manifest â � \u001b[?25h\u001b[?25l\u001b[2K\u001b[1Gpulling manifest â ‹ \u001b[?25h\u001b[?25l\u001b[2K\u001b[1Gpulling manifest â ™ \u001b[?25h\u001b[?25l\u001b[2K\u001b[1Gpulling manifest â ¹ \u001b[?25h\u001b[?25l\u001b[2K\u001b[1Gpulling manifest â ¸ \u001b[?25h\u001b[?25l\u001b[2K\u001b[1Gpulling manifest â ¼ \u001b[?25h\u001b[?25l\u001b[2K\u001b[1Gpulling manifest â ´ \u001b[?25h\u001b[?25l\u001b[2K\u001b[1Gpulling manifest â ¦ \u001b[?25h\u001b[?25l\u001b[2K\u001b[1Gpulling manifest â § \u001b[?25h\u001b[?25l\u001b[2K\u001b[1Gpulling manifest â ‡ \u001b[?25h\u001b[?25l\u001b[2K\u001b[1Gpulling manifest â � \u001b[?25h\u001b[?25l\u001b[2K\u001b[1Gpulling manifest â ‹ \u001b[?25h\u001b[?25l\u001b[2K\u001b[1Gpulling manifest â ™ \u001b[?25h\u001b[?25l\u001b[2K\u001b[1Gpulling manifest â ¹ \u001b[?25h\u001b[?25l\u001b[2K\u001b[1Gpulling manifest â ¸ \u001b[?25h\u001b[?25l\u001b[2K\u001b[1Gpulling manifest â ¼ \u001b[?25h\u001b[?25l\u001b[2K\u001b[1Gpulling manifest â ´ \u001b[?25h\u001b[?25l\u001b[2K\u001b[1Gpulling manifest â ¦ \u001b[?25h\u001b[?25l\u001b[2K\u001b[1Gpulling manifest â § \u001b[?25h\u001b[?25l\u001b[2K\u001b[1Gpulling manifest â ‡ \u001b[?25h\u001b[?25l\u001b[2K\u001b[1Gpulling manifest â � \u001b[?25h\u001b[?25l\u001b[2K\u001b[1Gpulling manifest â ‹ \u001b[?25h\u001b[?25l\u001b[2K\u001b[1Gpulling manifest â ™ \u001b[?25h\u001b[?25l\u001b[2K\u001b[1Gpulling manifest â ¹ \u001b[?25h\u001b[?25l\u001b[2K\u001b[1Gpulling manifest â ¸ \u001b[?25h\u001b[?25l\u001b[2K\u001b[1Gpulling manifest â ¼ \u001b[?25h\u001b[?25l\u001b[2K\u001b[1Gpulling manifest â ´ \u001b[?25h\u001b[?25l\u001b[2K\u001b[1Gpulling manifest â ¦ \u001b[?25h\u001b[?25l\u001b[2K\u001b[1Gpulling manifest â § \u001b[?25h\u001b[?25l\u001b[2K\u001b[1Gpulling manifest â ‡ \u001b[?25h\u001b[?25l\u001b[2K\u001b[1Gpulling manifest â � \u001b[?25h\u001b[?25l\u001b[2K\u001b[1Gpulling manifest â ‹ \u001b[?25h\u001b[?25l\u001b[2K\u001b[1Gpulling manifest â ™ \u001b[?25h\u001b[?25l\u001b[2K\u001b[1Gpulling manifest â ¹ \u001b[?25h\u001b[?25l\u001b[2K\u001b[1Gpulling manifest â ¸ \u001b[?25h\u001b[?25l\u001b[2K\u001b[1Gpulling manifest â ¼ \u001b[?25h\u001b[?25l\u001b[2K\u001b[1Gpulling manifest â ´ \u001b[?25h\u001b[?25l\u001b[2K\u001b[1Gpulling manifest â ¦ \u001b[?25h\u001b[?25l\u001b[2K\u001b[1Gpulling manifest â § \u001b[?25h\u001b[?25l\u001b[2K\u001b[1Gpulling manifest â ‡ \u001b[?25h\u001b[?25l\u001b[2K\u001b[1Gpulling manifest â � \u001b[?25h\u001b[?25l\u001b[2K\u001b[1Gpulling manifest â ‹ \u001b[?25h\u001b[?25l\u001b[2K\u001b[1Gpulling manifest â ™ \u001b[?25h\u001b[?25l\u001b[2K\u001b[1Gpulling manifest â ¹ \u001b[?25h\u001b[?25l\u001b[2K\u001b[1Gpulling manifest â ¸ \u001b[?25h\u001b[?25l\u001b[2K\u001b[1Gpulling manifest â ¼ \u001b[?25h\u001b[?25l\u001b[2K\u001b[1Gpulling manifest â ´ \u001b[?25h\u001b[?25l\u001b[2K\u001b[1Gpulling manifest â ¦ \u001b[?25h\u001b[?25l\u001b[2K\u001b[1Gpulling manifest â § \u001b[?25h\u001b[?25l\u001b[2K\u001b[1Gpulling manifest â ‡ \u001b[?25h\u001b[?25l\u001b[2K\u001b[1Gpulling manifest â � \u001b[?25h\u001b[?25l\u001b[2K\u001b[1Gpulling manifest â ‹ \u001b[?25h\u001b[?25l\u001b[2K\u001b[1Gpulling manifest â ™ \u001b[?25h\u001b[?25l\u001b[2K\u001b[1Gpulling manifest â ¹ \u001b[?25h\u001b[?25l\u001b[2K\u001b[1Gpulling manifest â ¸ \u001b[?25h\u001b[?25l\u001b[2K\u001b[1Gpulling manifest â ¼ \u001b[?25h\u001b[?25l\u001b[2K\u001b[1Gpulling manifest â ¦ \u001b[?25h\u001b[?25l\u001b[2K\u001b[1Gpulling manifest â ¦ \u001b[?25h\u001b[?25l\u001b[2K\u001b[1Gpulling manifest â § \u001b[?25h\u001b[?25l\u001b[2K\u001b[1Gpulling manifest â ‡ \u001b[?25h\u001b[?25l\u001b[2K\u001b[1Gpulling manifest â � \u001b[?25h\u001b[?25l\u001b[2K\u001b[1Gpulling manifest â ‹ \u001b[?25h\u001b[?25l\u001b[2K\u001b[1Gpulling manifest â ™ \u001b[?25h\u001b[?25l\u001b[2K\u001b[1Gpulling manifest â ¹ \u001b[?25h\u001b[?25l\u001b[2K\u001b[1Gpulling manifest â ¸ \u001b[?25h\u001b[?25l\u001b[2K\u001b[1Gpulling manifest â ¼ \u001b[?25h\u001b[?25l\u001b[2K\u001b[1Gpulling manifest â ´ \u001b[?25h\u001b[?25l\u001b[2K\u001b[1Gpulling manifest â ¦ \u001b[?25h\u001b[?25l\u001b[2K\u001b[1Gpulling manifest â § \u001b[?25h\u001b[?25l\u001b[2K\u001b[1Gpulling manifest â ‡ \u001b[?25h\u001b[?25l\u001b[2K\u001b[1Gpulling manifest â � \u001b[?25h\u001b[?25l\u001b[2K\u001b[1Gpulling manifest â ‹ \u001b[?25h\u001b[?25l\u001b[2K\u001b[1Gpulling manifest â ™ \u001b[?25h\u001b[?25l\u001b[2K\u001b[1Gpulling manifest â ¹ \u001b[?25h\u001b[?25l\u001b[2K\u001b[1Gpulling manifest â ¸ \u001b[?25h\u001b[?25l\u001b[2K\u001b[1Gpulling manifest â ¼ \u001b[?25h\u001b[?25l\u001b[2K\u001b[1Gpulling manifest â ´ \u001b[?25h\u001b[?25l\u001b[2K\u001b[1Gpulling manifest â ¦ \u001b[?25h\u001b[?25l\u001b[2K\u001b[1Gpulling manifest â § \u001b[?25h\u001b[?25l\u001b[2K\u001b[1Gpulling manifest â ‡ \u001b[?25h\u001b[?25l\u001b[2K\u001b[1Gpulling manifest â � \u001b[?25h\u001b[?25l\u001b[2K\u001b[1Gpulling manifest â ‹ \u001b[?25h\u001b[?25l\u001b[2K\u001b[1Gpulling manifest â ™ \u001b[?25h\u001b[?25l\u001b[2K\u001b[1Gpulling manifest â ¹ \u001b[?25h\u001b[?25l\u001b[2K\u001b[1Gpulling manifest â ¸ \u001b[?25h\u001b[?25l\u001b[2K\u001b[1Gpulling manifest â ¼ \u001b[?25h\u001b[?25l\u001b[2K\u001b[1Gpulling manifest â ´ \u001b[?25h\u001b[?25l\u001b[2K\u001b[1Gpulling manifest â ¦ \u001b[?25h\u001b[?25l\u001b[2K\u001b[1Gpulling manifest â § \u001b[?25h\u001b[?25l\u001b[2K\u001b[1Gpulling manifest â ‡ \u001b[?25h\u001b[?25l\u001b[2K\u001b[1Gpulling manifest â � \u001b[?25h\u001b[?25l\u001b[2K\u001b[1Gpulling manifest â ‹ \u001b[?25h\u001b[?25l\u001b[2K\u001b[1Gpulling manifest â ™ \u001b[?25h\u001b[?25l\u001b[2K\u001b[1Gpulling manifest â ¹ \u001b[?25h\u001b[?25l\u001b[2K\u001b[1Gpulling manifest â ¸ \u001b[?25h\u001b[?25l\u001b[2K\u001b[1Gpulling manifest â ¼ \u001b[?25h\u001b[?25l\u001b[2K\u001b[1Gpulling manifest â ´ \u001b[?25h\u001b[?25l\u001b[2K\u001b[1Gpulling manifest â ¦ \u001b[?25h\u001b[?25l\u001b[2K\u001b[1Gpulling manifest â § \u001b[?25h\u001b[?25l\u001b[2K\u001b[1Gpulling manifest â ‡ \u001b[?25h\u001b[?25l\u001b[2K\u001b[1Gpulling manifest â � \u001b[?25h\u001b[?25l\u001b[2K\u001b[1Gpulling manifest â ‹ \u001b[?25h\u001b[?25l\u001b[2K\u001b[1Gpulling manifest â ™ \u001b[?25h\u001b[?25l\u001b[2K\u001b[1Gpulling manifest â ¹ \u001b[?25h\u001b[?25l\u001b[2K\u001b[1Gpulling manifest â ¸ \u001b[?25h\u001b[?25l\u001b[2K\u001b[1Gpulling manifest â ¼ \u001b[?25h\u001b[?25l\u001b[2K\u001b[1Gpulling manifest â ´ \u001b[?25h\u001b[?25l\u001b[2K\u001b[1Gpulling manifest â ¦ \u001b[?25h\u001b[?25l\u001b[2K\u001b[1Gpulling manifest â § \u001b[?25h\u001b[?25l\u001b[2K\u001b[1Gpulling manifest â ‡ \u001b[?25h\u001b[?25l\u001b[2K\u001b[1Gpulling manifest â � \u001b[?25h\u001b[?25l\u001b[2K\u001b[1Gpulling manifest â ‹ \u001b[?25h\u001b[?25l\u001b[2K\u001b[1Gpulling manifest â ™ \u001b[?25h\u001b[?25l\u001b[2K\u001b[1Gpulling manifest â ¹ \u001b[?25h\u001b[?25l\u001b[2K\u001b[1Gpulling manifest â ¸ \u001b[?25h\u001b[?25l\u001b[2K\u001b[1Gpulling manifest â ¼ \u001b[?25h\u001b[?25l\u001b[2K\u001b[1Gpulling manifest â ´ \u001b[?25h\u001b[?25l\u001b[2K\u001b[1Gpulling manifest â ¦ \u001b[?25h\u001b[?25l\u001b[2K\u001b[1Gpulling manifest â § \u001b[?25h\u001b[?25l\u001b[2K\u001b[1Gpulling manifest â ‡ \u001b[?25h\u001b[?25l\u001b[2K\u001b[1Gpulling manifest â � \u001b[?25h\u001b[?25l\u001b[2K\u001b[1Gpulling manifest â ‹ \u001b[?25h\u001b[?25l\u001b[2K\u001b[1Gpulling manifest â ™ \u001b[?25h\u001b[?25l\u001b[2K\u001b[1Gpulling manifest â ¹ \u001b[?25h\u001b[?25l\u001b[2K\u001b[1Gpulling manifest â ¸ \u001b[?25h\u001b[?25l\u001b[2K\u001b[1Gpulling manifest â ¼ \u001b[?25h\u001b[?25l\u001b[2K\u001b[1Gpulling manifest â ´ \u001b[?25h\u001b[?25l\u001b[2K\u001b[1Gpulling manifest â ¦ \u001b[?25h\u001b[?25l\u001b[2K\u001b[1Gpulling manifest â § \u001b[?25h\u001b[?25l\u001b[2K\u001b[1Gpulling manifest â ‡ \u001b[?25h\u001b[?25l\u001b[2K\u001b[1Gpulling manifest â � \u001b[?25h\u001b[?25l\u001b[2K\u001b[1Gpulling manifest â ‹ \u001b[?25h\u001b[?25l\u001b[2K\u001b[1Gpulling manifest â ™ \u001b[?25h\u001b[?25l\u001b[2K\u001b[1Gpulling manifest â ¹ \u001b[?25h\u001b[?25l\u001b[2K\u001b[1Gpulling manifest â ¸ \u001b[?25h\u001b[?25l\u001b[2K\u001b[1Gpulling manifest â ¼ \u001b[?25h\u001b[?25l\u001b[2K\u001b[1Gpulling manifest â ´ \u001b[?25h\u001b[?25l\u001b[2K\u001b[1Gpulling manifest â ¦ \u001b[?25h\u001b[?25l\u001b[2K\u001b[1Gpulling manifest â § \u001b[?25h\u001b[?25l\u001b[2K\u001b[1Gpulling manifest â ‡ \u001b[?25h\u001b[?25l\u001b[2K\u001b[1Gpulling manifest â � \u001b[?25h\u001b[?25l\u001b[2K\u001b[1Gpulling manifest â ‹ \u001b[?25h\u001b[?25l\u001b[2K\u001b[1Gpulling manifest â ™ \u001b[?25h\u001b[?25l\u001b[2K\u001b[1Gpulling manifest â ¹ \u001b[?25h\u001b[?25l\u001b[2K\u001b[1Gpulling manifest â ¸ \u001b[?25h\u001b[?25l\u001b[2K\u001b[1Gpulling manifest â ¼ \u001b[?25h\u001b[?25l\u001b[2K\u001b[1Gpulling manifest â ´ \u001b[?25h\u001b[?25l\u001b[2K\u001b[1Gpulling manifest â ¦ \u001b[?25h\u001b[?25l\u001b[2K\u001b[1Gpulling manifest â § \u001b[?25h\u001b[?25l\u001b[2K\u001b[1Gpulling manifest â ‡ \u001b[?25h\u001b[?25l\u001b[2K\u001b[1Gpulling manifest â � \u001b[?25h\u001b[?25l\u001b[2K\u001b[1Gpulling manifest â ‹ \u001b[?25h\u001b[?25l\u001b[2K\u001b[1Gpulling manifest â ™ \u001b[?25h\u001b[?25l\u001b[2K\u001b[1Gpulling manifest â ¹ \u001b[?25h\u001b[?25l\u001b[2K\u001b[1Gpulling manifest â ¸ \u001b[?25h\u001b[?25l\u001b[2K\u001b[1Gpulling manifest â ¼ \u001b[?25h\u001b[?25l\u001b[2K\u001b[1Gpulling manifest â ´ \u001b[?25h\u001b[?25l\u001b[2K\u001b[1Gpulling manifest â ¦ \u001b[?25h\u001b[?25l\u001b[2K\u001b[1Gpulling manifest â § \u001b[?25h\u001b[?25l\u001b[2K\u001b[1Gpulling manifest â ‡ \u001b[?25h\u001b[?25l\u001b[2K\u001b[1Gpulling manifest â � \u001b[?25h\u001b[?25l\u001b[2K\u001b[1Gpulling manifest â ‹ \u001b[?25h\u001b[?25l\u001b[2K\u001b[1Gpulling manifest â ™ \u001b[?25h\u001b[?25l\u001b[2K\u001b[1Gpulling manifest â ¹ \u001b[?25h\u001b[?25l\u001b[2K\u001b[1Gpulling manifest \u001b[?25h\n",
      "Error: pull model manifest: Get \"https://registry.ollama.ai/v2/library/llama3.2/manifests/latest\": net/http: TLS handshake timeout\n"
     ]
    }
   ],
   "source": [
    "!ollama pull llama3.2"
   ]
  },
  {
   "cell_type": "code",
   "execution_count": 8,
   "id": "d2ddf9b6-5e8a-4600-95b3-93287cf70780",
   "metadata": {},
   "outputs": [],
   "source": [
    "model = \"llama3.2\""
   ]
  },
  {
   "cell_type": "markdown",
   "id": "06020ff3-d545-44e2-b6e3-936ef261559c",
   "metadata": {},
   "source": [
    "# Jee Master AI Tutor"
   ]
  },
  {
   "cell_type": "markdown",
   "id": "36b03bc5-f39a-48d0-9c16-78c192ad664c",
   "metadata": {},
   "source": [
    "### System Prompt"
   ]
  },
  {
   "cell_type": "markdown",
   "id": "974c8b38-2377-4c1c-b449-99dff2a200e3",
   "metadata": {},
   "source": [
    "##### This prompt will handle the queries of the user regarding the jee exam preparation and the prompt is designed based on our platform .\n",
    "##### This will generate the response for the user query in the proper structured format"
   ]
  },
  {
   "cell_type": "markdown",
   "id": "380bf1e4-dc40-4dda-a3bd-9a242ccedd73",
   "metadata": {},
   "source": [
    "# Physics AI-Tutor Prompt"
   ]
  },
  {
   "cell_type": "code",
   "execution_count": 39,
   "id": "19e98ac8-e261-4b51-8323-b7119123d0e7",
   "metadata": {},
   "outputs": [],
   "source": [
    "physics_prompt = r\"\"\"\n",
    "You are **JEE Physics Master AI Tutor**, a highly intelligent and precise AI assistant specializing in solving physics doubts for JEE aspirants.  \n",
    "Your task is to provide **accurate, clear, and structured explanations** for topics relevant to JEE (Main & Advanced).  \n",
    "\n",
    "### **Instructions for Response Generation:**  \n",
    "- **Conceptual Clarity:** Explain the **fundamentals** behind a question before solving it.  \n",
    "- **Step-by-Step Solutions:** For numerical problems, show **detailed calculations** and **final answers** clearly.  \n",
    "- **Formula-Based Approach:** Highlight key **formulas and derivations** relevant to the question.  \n",
    "- **Graphical & Diagrammatic Representation:** If applicable, describe how graphs, free-body diagrams, and vectors play a role in the solution.  \n",
    "- **JEE-Level Accuracy:** Ensure the solution aligns with **JEE Main & Advanced difficulty levels** and common exam patterns.  \n",
    "- **Time-Saving Strategies:** Suggest **shortcuts, tricks, and alternative approaches** where applicable.  \n",
    "\n",
    "For example:  \n",
    "📌 *\"How do I calculate the electric field due to a charged ring at an axial point?\"*  \n",
    "📌 *\"Can you explain the Work-Energy Theorem with an example?\"*  \n",
    "\n",
    "Let’s solve your JEE Physics doubts! 🚀\n",
    "\"\"\""
   ]
  },
  {
   "cell_type": "markdown",
   "id": "3bfb7462-b770-414c-9ec3-065833a47064",
   "metadata": {},
   "source": [
    "# Chemistry AI-Tutor Prompt"
   ]
  },
  {
   "cell_type": "code",
   "execution_count": 42,
   "id": "b25b88bd-a855-42e3-aaaf-ad39baa7c145",
   "metadata": {},
   "outputs": [],
   "source": [
    "chemistry_prompt = r\"\"\"\n",
    "You are **JEE Chemistry Master AI Tutor**, a 24/7 AI assistant dedicated to helping JEE aspirants with chemistry doubts.  \n",
    "Your task is to provide **precise, conceptually strong, and JEE-relevant answers** across **Physical, Organic, and Inorganic Chemistry**.  \n",
    "\n",
    "### **Instructions for Response Generation:**  \n",
    "- **Conceptual Clarity:** Explain **theoretical principles** before diving into problem-solving.  \n",
    "- **Stepwise Solutions:** Show **each calculation step** clearly for numerical chemistry problems.  \n",
    "- **Reaction Mechanisms & Exceptions:** If applicable, describe **reaction steps**, **intermediates**, and **special cases**.  \n",
    "- **IUPAC Naming & Structural Representation:** Ensure accuracy when explaining organic compounds.  \n",
    "- **JEE-Specific Approach:** Use **previous exam trends** to guide explanations.  \n",
    "- **Tricks & Mnemonics:** Provide **memory aids** for periodic table trends, hybridization, and reaction orders.  \n",
    "\n",
    "For example:  \n",
    "📌 *\"How do I calculate the pH of a buffer solution?\"*  \n",
    "📌 *\"Can you explain SN1 vs SN2 reactions with examples?\"*  \n",
    "\n",
    "Ask your JEE Chemistry doubts, and let's solve them! 🔬\n",
    "\"\"\""
   ]
  },
  {
   "cell_type": "markdown",
   "id": "68fa7f91-b841-4b4c-97f0-123fa555fe28",
   "metadata": {},
   "source": [
    "# Mathematics AI-Tutor Prompt"
   ]
  },
  {
   "cell_type": "code",
   "execution_count": 46,
   "id": "859a8ff2-8fb4-43e9-820c-b9110794f0d0",
   "metadata": {},
   "outputs": [],
   "source": [
    "maths_prompt = r\"\"\"\n",
    "You are **JEE Mathematics Master AI Tutor**, a highly capable AI assistant specialized in helping JEE aspirants solve math problems efficiently.  \n",
    "Your task is to provide **step-by-step solutions, shortcuts, and deep conceptual clarity** for all JEE Math topics.  \n",
    "\n",
    "### **Instructions for Response Generation:**  \n",
    "- **Logical & Structured Approach:** Break problems into **step-by-step solutions** for clarity.  \n",
    "- **Concept First, Solution Next:** Before solving, explain the **underlying mathematical concept**.  \n",
    "- **JEE-Level Techniques:** Suggest **shortcuts, tricks, and time-saving strategies** (e.g., determinant tricks, differentiation shortcuts).  \n",
    "- **Graphical Representation:** Where useful, describe **graphs, transformations, or visual interpretations**.  \n",
    "- **Formula-Based Solutions:** Highlight **key formulas** and explain their derivations if relevant.  \n",
    "- **Exam-Oriented Focus:** Ensure solutions align with **JEE exam standards** and previous trends.  \n",
    "\n",
    "For example:  \n",
    "📌 *\"Can you explain the shortcut for solving determinants?\"*  \n",
    "📌 *\"How do I find the area under a curve using integration?\"*  \n",
    "\n",
    "Let’s tackle your JEE Math doubts efficiently! ✏️\n",
    "\"\"\""
   ]
  },
  {
   "cell_type": "markdown",
   "id": "85b30002-95e3-4e49-9fbb-dad0a1ffe9c8",
   "metadata": {},
   "source": [
    "# Model Format"
   ]
  },
  {
   "cell_type": "code",
   "execution_count": 48,
   "id": "972b046e-47e8-4479-8a31-0435cf0053bc",
   "metadata": {},
   "outputs": [],
   "source": [
    "def respond_to_user(system_prompt , user_input):\n",
    "    print(\"User Prompt:\", user_input)  \n",
    "\n",
    "    messages = [\n",
    "        {\"role\": \"system\", \"content\": system_prompt},\n",
    "        {\"role\": \"user\", \"content\": user_input}\n",
    "    ]\n",
    "    \n",
    "    try:\n",
    "        response = ollama.chat(model=\"llama3.2\", messages=messages)\n",
    "\n",
    "        if \"message\" in response and \"content\" in response[\"message\"]:\n",
    "            return response[\"message\"][\"content\"]\n",
    "        else:\n",
    "            return \"⚠️ No response received from AI.\"\n",
    "\n",
    "    except Exception as e:\n",
    "        return f\"❌ Error: {str(e)}\""
   ]
  },
  {
   "cell_type": "code",
   "execution_count": 50,
   "id": "e342895f-9c8a-4913-a0a3-47da26cbd12d",
   "metadata": {},
   "outputs": [],
   "source": [
    "def jee_master_tutor(user_input , section):\n",
    "    if section==\"Physics\":\n",
    "        result = respond_to_user(physics_prompt , user_input)\n",
    "    elif section==\"Chemistry\":\n",
    "        result = respond_to_user(chemistry_prompt , user_input)\n",
    "    elif section==\"Mathematics\":\n",
    "        result = respond_to_user(maths_prompt , user_input)\n",
    "    else:\n",
    "        print(\"Oops wrong subject selection:\")\n",
    "    return result"
   ]
  },
  {
   "cell_type": "markdown",
   "id": "42e49438-3419-448f-8726-c4b21953ae3b",
   "metadata": {},
   "source": [
    "# Jee Master AI-Tutor Interface"
   ]
  },
  {
   "cell_type": "code",
   "execution_count": 31,
   "id": "8d99c49f-843c-4858-b0e8-e129479bd802",
   "metadata": {},
   "outputs": [],
   "source": [
    "import gradio as gr"
   ]
  },
  {
   "cell_type": "code",
   "execution_count": 60,
   "id": "a6e75446-71d0-43d4-b8b7-ed2fab09e668",
   "metadata": {},
   "outputs": [
    {
     "name": "stdout",
     "output_type": "stream",
     "text": [
      "* Running on local URL:  http://127.0.0.1:7866\n",
      "\n",
      "To create a public link, set `share=True` in `launch()`.\n"
     ]
    },
    {
     "data": {
      "text/html": [
       "<div><iframe src=\"http://127.0.0.1:7866/\" width=\"100%\" height=\"500\" allow=\"autoplay; camera; microphone; clipboard-read; clipboard-write;\" frameborder=\"0\" allowfullscreen></iframe></div>"
      ],
      "text/plain": [
       "<IPython.core.display.HTML object>"
      ]
     },
     "metadata": {},
     "output_type": "display_data"
    },
    {
     "data": {
      "text/plain": []
     },
     "execution_count": 60,
     "metadata": {},
     "output_type": "execute_result"
    }
   ],
   "source": [
    "view = gr.Interface(\n",
    "    fn=jee_master_tutor,\n",
    "    inputs=[gr.Textbox(placeholder=\"Ask your JEE exam doubts here...\", lines=5 , label = \"Ask your queries \") ,\n",
    "            gr.Dropdown([\"Physics\",\"Chemistry\",\"Mathematics\"],label=\" -- Select -- \" ,value=None)],\n",
    "    outputs=gr.Markdown(),\n",
    "    title=\"JEE Master AI Tutor - 24/7 Instant Doubt Solver\",\n",
    "    description=\"An AI-powered tutor to help you with JEE exam preparation. Ask doubts on Physics, Chemistry, and Mathematics!\",\n",
    "    flagging_mode=\"never\"\n",
    ")\n",
    "\n",
    "view.launch()"
   ]
  }
 ],
 "metadata": {
  "kernelspec": {
   "display_name": "Python 3 (ipykernel)",
   "language": "python",
   "name": "python3"
  },
  "language_info": {
   "codemirror_mode": {
    "name": "ipython",
    "version": 3
   },
   "file_extension": ".py",
   "mimetype": "text/x-python",
   "name": "python",
   "nbconvert_exporter": "python",
   "pygments_lexer": "ipython3",
   "version": "3.12.4"
  }
 },
 "nbformat": 4,
 "nbformat_minor": 5
}
