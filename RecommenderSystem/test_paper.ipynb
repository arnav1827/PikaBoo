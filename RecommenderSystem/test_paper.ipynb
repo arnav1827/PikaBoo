{
 "cells": [
  {
   "cell_type": "code",
   "execution_count": 1,
   "metadata": {},
   "outputs": [
    {
     "name": "stdout",
     "output_type": "stream",
     "text": [
      "   user_id  paper_id  rating\n",
      "0     8103      9979       1\n",
      "1     2617      7966       2\n",
      "2     3993      7792       2\n",
      "3     7785      5646       3\n",
      "4     4437      6430       4\n",
      "paper_id  5020  5041  5086  5091  5098  5178  5222  5240  5245  5283  ...  \\\n",
      "user_id                                                               ...   \n",
      "1051       0.0   0.0   0.0   0.0   0.0   0.0   0.0   0.0   0.0   0.0  ...   \n",
      "1113       0.0   0.0   0.0   0.0   0.0   0.0   0.0   0.0   0.0   0.0  ...   \n",
      "1215       0.0   0.0   0.0   0.0   0.0   0.0   0.0   0.0   0.0   0.0  ...   \n",
      "1232       0.0   0.0   0.0   0.0   0.0   0.0   0.0   0.0   0.0   0.0  ...   \n",
      "1294       0.0   0.0   0.0   0.0   0.0   0.0   0.0   0.0   0.0   0.0  ...   \n",
      "...        ...   ...   ...   ...   ...   ...   ...   ...   ...   ...  ...   \n",
      "9776       0.0   0.0   0.0   0.0   0.0   0.0   0.0   0.0   0.0   0.0  ...   \n",
      "9782       0.0   0.0   0.0   0.0   0.0   0.0   0.0   0.0   0.0   0.0  ...   \n",
      "9809       0.0   0.0   0.0   0.0   0.0   0.0   0.0   0.0   0.0   0.0  ...   \n",
      "9909       0.0   0.0   0.0   0.0   0.0   0.0   0.0   0.0   0.0   0.0  ...   \n",
      "9956       0.0   0.0   0.0   0.0   0.0   0.0   0.0   0.0   0.0   0.0  ...   \n",
      "\n",
      "paper_id  9785  9871  9881  9907  9911  9932  9949  9978  9979  9982  \n",
      "user_id                                                               \n",
      "1051       0.0   0.0   0.0   0.0   0.0   0.0   0.0   0.0   0.0   0.0  \n",
      "1113       0.0   0.0   0.0   0.0   0.0   0.0   0.0   0.0   0.0   0.0  \n",
      "1215       0.0   0.0   0.0   0.0   0.0   0.0   0.0   0.0   0.0   0.0  \n",
      "1232       0.0   0.0   0.0   0.0   0.0   0.0   0.0   0.0   0.0   0.0  \n",
      "1294       0.0   0.0   0.0   0.0   1.0   0.0   0.0   0.0   0.0   0.0  \n",
      "...        ...   ...   ...   ...   ...   ...   ...   ...   ...   ...  \n",
      "9776       0.0   0.0   0.0   0.0   0.0   0.0   0.0   0.0   0.0   0.0  \n",
      "9782       0.0   0.0   0.0   0.0   0.0   0.0   0.0   0.0   0.0   0.0  \n",
      "9809       0.0   0.0   0.0   0.0   0.0   0.0   0.0   0.0   0.0   0.0  \n",
      "9909       0.0   0.0   0.0   0.0   0.0   0.0   0.0   0.0   0.0   0.0  \n",
      "9956       0.0   0.0   0.0   0.0   0.0   0.0   0.0   0.0   0.0   0.0  \n",
      "\n",
      "[189 rows x 187 columns]\n"
     ]
    }
   ],
   "source": [
    "import pandas as pd\n",
    "from sklearn.metrics.pairwise import cosine_similarity\n",
    "from sklearn.preprocessing import StandardScaler\n",
    "\n",
    "# Step 2: Load the CSV data\n",
    "df = pd.read_csv('test_paper.csv')\n",
    "\n",
    "# Display the first few rows of the dataframe\n",
    "print(df.head())\n",
    "\n",
    "df.fillna(0, inplace=True)\n",
    "# Step 3: Create a user-item matrix\n",
    "user_item_matrix = df.pivot_table(values='rating', index='user_id', columns='paper_id', fill_value = 0)\n",
    "\n",
    "# Display the user-item matrix\n",
    "print(user_item_matrix)"
   ]
  },
  {
   "cell_type": "code",
   "execution_count": 2,
   "metadata": {},
   "outputs": [
    {
     "name": "stdout",
     "output_type": "stream",
     "text": [
      "user_id  1051  1113  1215  1232  1294  1363  1365  1410  1464  1518  ...  \\\n",
      "user_id                                                              ...   \n",
      "1051      1.0   0.0   0.0   0.0   0.0   0.0   0.0   0.0   0.0   0.0  ...   \n",
      "1113      0.0   1.0   0.0   0.0   0.0   0.0   0.0   0.0   0.0   0.0  ...   \n",
      "1215      0.0   0.0   1.0   0.0   0.0   0.0   0.0   0.0   0.0   0.0  ...   \n",
      "1232      0.0   0.0   0.0   1.0   0.0   0.0   0.0   0.0   0.0   0.0  ...   \n",
      "1294      0.0   0.0   0.0   0.0   1.0   0.0   0.0   0.0   0.0   0.0  ...   \n",
      "...       ...   ...   ...   ...   ...   ...   ...   ...   ...   ...  ...   \n",
      "9776      0.0   0.0   0.0   0.0   0.0   0.0   0.0   0.0   0.0   0.0  ...   \n",
      "9782      0.0   0.0   0.0   0.0   0.0   0.0   0.0   0.0   0.0   0.0  ...   \n",
      "9809      0.0   0.0   0.0   0.0   0.0   0.0   0.0   0.0   0.0   0.0  ...   \n",
      "9909      0.0   0.0   0.0   0.0   0.0   0.0   0.0   0.0   0.0   0.0  ...   \n",
      "9956      0.0   0.0   0.0   0.0   0.0   0.0   0.0   0.0   0.0   0.0  ...   \n",
      "\n",
      "user_id  9374  9448  9483  9560  9768  9776  9782  9809  9909  9956  \n",
      "user_id                                                              \n",
      "1051      0.0   0.0   0.0   0.0   0.0   0.0   0.0   0.0   0.0   0.0  \n",
      "1113      0.0   0.0   0.0   0.0   0.0   0.0   0.0   0.0   0.0   0.0  \n",
      "1215      0.0   0.0   0.0   0.0   0.0   0.0   0.0   0.0   0.0   0.0  \n",
      "1232      0.0   0.0   0.0   0.0   0.0   0.0   0.0   0.0   0.0   0.0  \n",
      "1294      0.0   0.0   0.0   0.0   0.0   0.0   0.0   0.0   0.0   0.0  \n",
      "...       ...   ...   ...   ...   ...   ...   ...   ...   ...   ...  \n",
      "9776      0.0   0.0   0.0   0.0   0.0   1.0   0.0   0.0   0.0   0.0  \n",
      "9782      0.0   0.0   0.0   0.0   0.0   0.0   1.0   0.0   0.0   0.0  \n",
      "9809      0.0   0.0   0.0   0.0   0.0   0.0   0.0   1.0   0.0   0.0  \n",
      "9909      0.0   0.0   0.0   0.0   0.0   0.0   0.0   0.0   1.0   0.0  \n",
      "9956      0.0   0.0   0.0   0.0   0.0   0.0   0.0   0.0   0.0   1.0  \n",
      "\n",
      "[189 rows x 189 columns]\n"
     ]
    }
   ],
   "source": [
    "# Step 4: Calculate cosine similarity\n",
    "cosine_sim = cosine_similarity(user_item_matrix)\n",
    "cosine_sim_df = pd.DataFrame(cosine_sim, index=user_item_matrix.index, columns=user_item_matrix.index)\n",
    "\n",
    "# Display the cosine similarity matrix\n",
    "print(cosine_sim_df)"
   ]
  },
  {
   "cell_type": "code",
   "execution_count": 3,
   "metadata": {},
   "outputs": [],
   "source": [
    "# Step 5: Define the recommendation function\n",
    "def recommend_papers(paper_id, cosine_sim_df, top_n=3):\n",
    "    if paper_id not in cosine_sim_df.index:\n",
    "        raise ValueError(f\"Paper ID {paper_id} not found in the dataset.\")\n",
    "    \n",
    "    # Get similarity scores for the specified paper\n",
    "    sim_scores = cosine_sim_df.loc[paper_id]\n",
    "    \n",
    "    # Sort papers based on similarity scores\n",
    "    sim_scores = sim_scores.sort_values(ascending=False)\n",
    "    \n",
    "    # Get the top N similar papers (excluding the input paper itself)\n",
    "    recommended_papers = sim_scores.index[1:top_n + 1]  \n",
    "    \n",
    "    return recommended_papers.tolist()\n"
   ]
  },
  {
   "cell_type": "code",
   "execution_count": 5,
   "metadata": {},
   "outputs": [
    {
     "name": "stdout",
     "output_type": "stream",
     "text": [
      "Recommended papers for paper_id 1051: [7116, 6794, 6849]\n"
     ]
    }
   ],
   "source": [
    "recommended = recommend_papers(paper_id=1051, cosine_sim_df=cosine_sim_df)\n",
    "print(f\"Recommended papers for paper_id 1051: {recommended}\")"
   ]
  },
  {
   "cell_type": "code",
   "execution_count": null,
   "metadata": {},
   "outputs": [],
   "source": []
  }
 ],
 "metadata": {
  "kernelspec": {
   "display_name": "Python 3",
   "language": "python",
   "name": "python3"
  },
  "language_info": {
   "codemirror_mode": {
    "name": "ipython",
    "version": 3
   },
   "file_extension": ".py",
   "mimetype": "text/x-python",
   "name": "python",
   "nbconvert_exporter": "python",
   "pygments_lexer": "ipython3",
   "version": "3.12.6"
  }
 },
 "nbformat": 4,
 "nbformat_minor": 2
}
